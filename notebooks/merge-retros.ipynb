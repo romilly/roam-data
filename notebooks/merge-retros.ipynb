{
 "cells": [
  {
   "cell_type": "markdown",
   "id": "e21556f3",
   "metadata": {},
   "source": [
    "## Merge retrospective entries\n",
    "\n",
    "Finds and merges the retrospective items for the daily notes in a given week.\n",
    "\n",
    "My weeks start on Sunday.\n",
    "\n",
    "The code takes the first three retro items which are assumed to be 'WW', 'WDNW', 'WDD'."
   ]
  },
  {
   "cell_type": "code",
   "execution_count": 1,
   "id": "57d4c1b5",
   "metadata": {},
   "outputs": [],
   "source": [
    "from roam_data.dates.dates import  date_from, roam_format, start_of_week_containing, dates_for_wc"
   ]
  },
  {
   "cell_type": "code",
   "execution_count": 2,
   "id": "fd372253",
   "metadata": {},
   "outputs": [
    {
     "data": {
      "text/plain": [
       "['December 12th, 2021',\n",
       " 'December 13th, 2021',\n",
       " 'December 14th, 2021',\n",
       " 'December 15th, 2021',\n",
       " 'December 16th, 2021',\n",
       " 'December 17th, 2021',\n",
       " 'December 18th, 2021']"
      ]
     },
     "execution_count": 2,
     "metadata": {},
     "output_type": "execute_result"
    }
   ],
   "source": [
    "day = '20211215'\n",
    "days = list(roam_format(day) for day in dates_for_wc(start_of_week_containing(date_from(day))))\n",
    "days"
   ]
  },
  {
   "cell_type": "code",
   "execution_count": 3,
   "id": "730b8c38",
   "metadata": {},
   "outputs": [],
   "source": [
    "from roam_data.roam.graph import Graph, Page, Block"
   ]
  },
  {
   "cell_type": "code",
   "execution_count": 4,
   "id": "c53da69c",
   "metadata": {},
   "outputs": [],
   "source": [
    "graph= Graph.from_file('../data/20211215/test01.json')"
   ]
  },
  {
   "cell_type": "code",
   "execution_count": 5,
   "id": "8f16a3de",
   "metadata": {},
   "outputs": [
    {
     "data": {
      "text/plain": [
       "1"
      ]
     },
     "execution_count": 5,
     "metadata": {},
     "output_type": "execute_result"
    }
   ],
   "source": [
    "notes =[graph.page_titles[day] for day in days if day in graph.page_titles]\n",
    "len(notes)"
   ]
  },
  {
   "cell_type": "code",
   "execution_count": 15,
   "id": "85aa196f",
   "metadata": {
    "pycharm": {
     "name": "#%%\n"
    }
   },
   "outputs": [
    {
     "data": {
      "text/plain": "[Block([[Retrospective]], iQMdesbHJ)]"
     },
     "execution_count": 15,
     "metadata": {},
     "output_type": "execute_result"
    }
   ],
   "source": [
    "from roam_data.roam.filter_entries import retro_from\n",
    "\n",
    "list(retro_from(page) for page in notes)"
   ]
  },
  {
   "cell_type": "code",
   "execution_count": 8,
   "id": "b08b9e5c",
   "metadata": {},
   "outputs": [],
   "source": []
  },
  {
   "cell_type": "code",
   "execution_count": 13,
   "id": "43cb074c",
   "metadata": {},
   "outputs": [
    {
     "data": {
      "text/plain": "[Block([[Retrospective]], iQMdesbHJ)]"
     },
     "execution_count": 13,
     "metadata": {},
     "output_type": "execute_result"
    }
   ],
   "source": [
    "from roam_data.roam.filter_entries import retros_in\n",
    "\n",
    "rb = retros_in(notes)\n",
    "rb"
   ]
  },
  {
   "cell_type": "code",
   "execution_count": 14,
   "id": "618469ef",
   "metadata": {},
   "outputs": [],
   "source": [
    "from roam_data.roam.merge import merge_retros\n",
    "\n",
    "rr = merge_retros(rb)"
   ]
  },
  {
   "cell_type": "code",
   "execution_count": 14,
   "id": "9f85725f",
   "metadata": {},
   "outputs": [],
   "source": [
    "from roam_data.roam.to_markdown import retro_blocks_to_markdown\n",
    "\n",
    "retro_blocks_to_markdown(rr)"
   ]
  },
  {
   "cell_type": "code",
   "execution_count": null,
   "id": "640662b9",
   "metadata": {},
   "outputs": [],
   "source": []
  },
  {
   "cell_type": "code",
   "execution_count": null,
   "id": "4f1ea1a2",
   "metadata": {
    "pycharm": {
     "name": "#%%\n"
    }
   },
   "outputs": [],
   "source": []
  }
 ],
 "metadata": {
  "kernelspec": {
   "display_name": "Python 3",
   "language": "python",
   "name": "python3"
  },
  "language_info": {
   "codemirror_mode": {
    "name": "ipython",
    "version": 3
   },
   "file_extension": ".py",
   "mimetype": "text/x-python",
   "name": "python",
   "nbconvert_exporter": "python",
   "pygments_lexer": "ipython3",
   "version": "3.8.10"
  }
 },
 "nbformat": 4,
 "nbformat_minor": 5
}